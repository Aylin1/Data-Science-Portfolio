{
 "cells": [
  {
   "cell_type": "markdown",
   "metadata": {},
   "source": [
    "# Linear Regression in Prediction Co2 Emissions of Vehicles"
   ]
  },
  {
   "attachments": {},
   "cell_type": "markdown",
   "metadata": {},
   "source": [
    "# 2. Multiple Linear Regression\n",
    "\n",
    "## Objectives\n",
    "*   Create a model, train it, test it and use the model to predict Co2 Emissions\n"
   ]
  },
  {
   "attachments": {},
   "cell_type": "markdown",
   "metadata": {},
   "source": [
    " ### Assumptions of Multiple Linear Regression\n",
    " \n",
    "1. Linear relationship: There exists a linear relationship between each predictor variable and the response variable.\n",
    "\n",
    "2. No Multicollinearity: None of the predictor variables are highly correlated with each other.\n",
    "\n",
    "3. Independence: The observations are independent.\n",
    "\n",
    "4. Homoscedasticity: The residuals have constant variance at every point in the linear model.\n",
    "\n",
    "5. Multivariate Normality: The residuals of the model are normally distributed."
   ]
  },
  {
   "attachments": {},
   "cell_type": "markdown",
   "metadata": {},
   "source": [
    "### Standard libraries to be imported\n"
   ]
  },
  {
   "cell_type": "code",
   "execution_count": 3,
   "metadata": {},
   "outputs": [],
   "source": [
    "import matplotlib.pyplot as plt\n",
    "import pandas as pd\n",
    "import numpy as np\n",
    "import seaborn as sns\n",
    "\n",
    "%matplotlib inline"
   ]
  },
  {
   "cell_type": "markdown",
   "metadata": {},
   "source": [
    "<h2 id=\"understanding_data\">Understanding the Data</h2>\n",
    "\n",
    "### `FuelConsumption.csv`:\n",
    "\n",
    "We have downloaded a fuel consumption dataset, **`FuelConsumption.csv`**, which contains model-specific fuel consumption ratings and estimated carbon dioxide emissions for new light-duty vehicles for retail sale in Canada. [Dataset source](http://open.canada.ca/data/en/dataset/98f1a129-f628-4ce4-b24d-6f16bf24dd64?utm_medium=Exinfluencer&utm_source=Exinfluencer&utm_content=000026UJ&utm_term=10006555&utm_id=NA-SkillsNetwork-Channel-SkillsNetworkCoursesIBMDeveloperSkillsNetworkML0101ENSkillsNetwork20718538-2022-01-01)\n",
    "\n",
    "*   **MODELYEAR** e.g. 2014\n",
    "*   **MAKE** e.g. Acura\n",
    "*   **MODEL** e.g. ILX\n",
    "*   **VEHICLE CLASS** e.g. SUV\n",
    "*   **ENGINE SIZE** e.g. 4.7\n",
    "*   **CYLINDERS** e.g 6\n",
    "*   **TRANSMISSION** e.g. A6\n",
    "*   **FUELTYPE** e.g. z\n",
    "*   **FUEL CONSUMPTION in CITY(L/100 km)** e.g. 9.9\n",
    "*   **FUEL CONSUMPTION in HWY (L/100 km)** e.g. 8.9\n",
    "*   **FUEL CONSUMPTION COMB (L/100 km)** e.g. 9.2\n",
    "*   **CO2 EMISSIONS (g/km)** e.g. 182   --> low --> 0\n"
   ]
  },
  {
   "cell_type": "markdown",
   "metadata": {},
   "source": [
    "## Reading the data"
   ]
  },
  {
   "cell_type": "code",
   "execution_count": 4,
   "metadata": {},
   "outputs": [
    {
     "data": {
      "text/html": [
       "<div>\n",
       "<style scoped>\n",
       "    .dataframe tbody tr th:only-of-type {\n",
       "        vertical-align: middle;\n",
       "    }\n",
       "\n",
       "    .dataframe tbody tr th {\n",
       "        vertical-align: top;\n",
       "    }\n",
       "\n",
       "    .dataframe thead th {\n",
       "        text-align: right;\n",
       "    }\n",
       "</style>\n",
       "<table border=\"1\" class=\"dataframe\">\n",
       "  <thead>\n",
       "    <tr style=\"text-align: right;\">\n",
       "      <th></th>\n",
       "      <th>MODELYEAR</th>\n",
       "      <th>MAKE</th>\n",
       "      <th>MODEL</th>\n",
       "      <th>VEHICLECLASS</th>\n",
       "      <th>ENGINESIZE</th>\n",
       "      <th>CYLINDERS</th>\n",
       "      <th>TRANSMISSION</th>\n",
       "      <th>FUELTYPE</th>\n",
       "      <th>FUELCONSUMPTION_CITY</th>\n",
       "      <th>FUELCONSUMPTION_HWY</th>\n",
       "      <th>FUELCONSUMPTION_COMB</th>\n",
       "      <th>FUELCONSUMPTION_COMB_MPG</th>\n",
       "      <th>CO2EMISSIONS</th>\n",
       "    </tr>\n",
       "  </thead>\n",
       "  <tbody>\n",
       "    <tr>\n",
       "      <th>0</th>\n",
       "      <td>2014</td>\n",
       "      <td>ACURA</td>\n",
       "      <td>ILX</td>\n",
       "      <td>COMPACT</td>\n",
       "      <td>2.0</td>\n",
       "      <td>4</td>\n",
       "      <td>AS5</td>\n",
       "      <td>Z</td>\n",
       "      <td>9.9</td>\n",
       "      <td>6.7</td>\n",
       "      <td>8.5</td>\n",
       "      <td>33</td>\n",
       "      <td>196</td>\n",
       "    </tr>\n",
       "    <tr>\n",
       "      <th>1</th>\n",
       "      <td>2014</td>\n",
       "      <td>ACURA</td>\n",
       "      <td>ILX</td>\n",
       "      <td>COMPACT</td>\n",
       "      <td>2.4</td>\n",
       "      <td>4</td>\n",
       "      <td>M6</td>\n",
       "      <td>Z</td>\n",
       "      <td>11.2</td>\n",
       "      <td>7.7</td>\n",
       "      <td>9.6</td>\n",
       "      <td>29</td>\n",
       "      <td>221</td>\n",
       "    </tr>\n",
       "    <tr>\n",
       "      <th>2</th>\n",
       "      <td>2014</td>\n",
       "      <td>ACURA</td>\n",
       "      <td>ILX HYBRID</td>\n",
       "      <td>COMPACT</td>\n",
       "      <td>1.5</td>\n",
       "      <td>4</td>\n",
       "      <td>AV7</td>\n",
       "      <td>Z</td>\n",
       "      <td>6.0</td>\n",
       "      <td>5.8</td>\n",
       "      <td>5.9</td>\n",
       "      <td>48</td>\n",
       "      <td>136</td>\n",
       "    </tr>\n",
       "    <tr>\n",
       "      <th>3</th>\n",
       "      <td>2014</td>\n",
       "      <td>ACURA</td>\n",
       "      <td>MDX 4WD</td>\n",
       "      <td>SUV - SMALL</td>\n",
       "      <td>3.5</td>\n",
       "      <td>6</td>\n",
       "      <td>AS6</td>\n",
       "      <td>Z</td>\n",
       "      <td>12.7</td>\n",
       "      <td>9.1</td>\n",
       "      <td>11.1</td>\n",
       "      <td>25</td>\n",
       "      <td>255</td>\n",
       "    </tr>\n",
       "    <tr>\n",
       "      <th>4</th>\n",
       "      <td>2014</td>\n",
       "      <td>ACURA</td>\n",
       "      <td>RDX AWD</td>\n",
       "      <td>SUV - SMALL</td>\n",
       "      <td>3.5</td>\n",
       "      <td>6</td>\n",
       "      <td>AS6</td>\n",
       "      <td>Z</td>\n",
       "      <td>12.1</td>\n",
       "      <td>8.7</td>\n",
       "      <td>10.6</td>\n",
       "      <td>27</td>\n",
       "      <td>244</td>\n",
       "    </tr>\n",
       "  </tbody>\n",
       "</table>\n",
       "</div>"
      ],
      "text/plain": [
       "   MODELYEAR   MAKE       MODEL VEHICLECLASS  ENGINESIZE  CYLINDERS  \\\n",
       "0       2014  ACURA         ILX      COMPACT         2.0          4   \n",
       "1       2014  ACURA         ILX      COMPACT         2.4          4   \n",
       "2       2014  ACURA  ILX HYBRID      COMPACT         1.5          4   \n",
       "3       2014  ACURA     MDX 4WD  SUV - SMALL         3.5          6   \n",
       "4       2014  ACURA     RDX AWD  SUV - SMALL         3.5          6   \n",
       "\n",
       "  TRANSMISSION FUELTYPE  FUELCONSUMPTION_CITY  FUELCONSUMPTION_HWY  \\\n",
       "0          AS5        Z                   9.9                  6.7   \n",
       "1           M6        Z                  11.2                  7.7   \n",
       "2          AV7        Z                   6.0                  5.8   \n",
       "3          AS6        Z                  12.7                  9.1   \n",
       "4          AS6        Z                  12.1                  8.7   \n",
       "\n",
       "   FUELCONSUMPTION_COMB  FUELCONSUMPTION_COMB_MPG  CO2EMISSIONS  \n",
       "0                   8.5                        33           196  \n",
       "1                   9.6                        29           221  \n",
       "2                   5.9                        48           136  \n",
       "3                  11.1                        25           255  \n",
       "4                  10.6                        27           244  "
      ]
     },
     "execution_count": 4,
     "metadata": {},
     "output_type": "execute_result"
    }
   ],
   "source": [
    "df = pd.read_csv(\"https://raw.githubusercontent.com/Aylin1/Data-Science-Portfolio/47b37cbcb03136ae3c146803b62da2953f30b7e8/FuelConsumptionCo2.csv\")\n",
    "\n",
    "# take a look at the dataset\n",
    "df.head()"
   ]
  },
  {
   "attachments": {},
   "cell_type": "markdown",
   "metadata": {},
   "source": [
    "## ***1. Data Exploration***\n",
    "\n",
    "Let's first have a descriptive exploration on our data.\n"
   ]
  },
  {
   "cell_type": "code",
   "execution_count": 5,
   "metadata": {},
   "outputs": [
    {
     "data": {
      "text/html": [
       "<div>\n",
       "<style scoped>\n",
       "    .dataframe tbody tr th:only-of-type {\n",
       "        vertical-align: middle;\n",
       "    }\n",
       "\n",
       "    .dataframe tbody tr th {\n",
       "        vertical-align: top;\n",
       "    }\n",
       "\n",
       "    .dataframe thead th {\n",
       "        text-align: right;\n",
       "    }\n",
       "</style>\n",
       "<table border=\"1\" class=\"dataframe\">\n",
       "  <thead>\n",
       "    <tr style=\"text-align: right;\">\n",
       "      <th></th>\n",
       "      <th>MODELYEAR</th>\n",
       "      <th>ENGINESIZE</th>\n",
       "      <th>CYLINDERS</th>\n",
       "      <th>FUELCONSUMPTION_CITY</th>\n",
       "      <th>FUELCONSUMPTION_HWY</th>\n",
       "      <th>FUELCONSUMPTION_COMB</th>\n",
       "      <th>FUELCONSUMPTION_COMB_MPG</th>\n",
       "      <th>CO2EMISSIONS</th>\n",
       "    </tr>\n",
       "  </thead>\n",
       "  <tbody>\n",
       "    <tr>\n",
       "      <th>count</th>\n",
       "      <td>1067.0</td>\n",
       "      <td>1067.000000</td>\n",
       "      <td>1067.000000</td>\n",
       "      <td>1067.000000</td>\n",
       "      <td>1067.000000</td>\n",
       "      <td>1067.000000</td>\n",
       "      <td>1067.000000</td>\n",
       "      <td>1067.000000</td>\n",
       "    </tr>\n",
       "    <tr>\n",
       "      <th>mean</th>\n",
       "      <td>2014.0</td>\n",
       "      <td>3.346298</td>\n",
       "      <td>5.794752</td>\n",
       "      <td>13.296532</td>\n",
       "      <td>9.474602</td>\n",
       "      <td>11.580881</td>\n",
       "      <td>26.441425</td>\n",
       "      <td>256.228679</td>\n",
       "    </tr>\n",
       "    <tr>\n",
       "      <th>std</th>\n",
       "      <td>0.0</td>\n",
       "      <td>1.415895</td>\n",
       "      <td>1.797447</td>\n",
       "      <td>4.101253</td>\n",
       "      <td>2.794510</td>\n",
       "      <td>3.485595</td>\n",
       "      <td>7.468702</td>\n",
       "      <td>63.372304</td>\n",
       "    </tr>\n",
       "    <tr>\n",
       "      <th>min</th>\n",
       "      <td>2014.0</td>\n",
       "      <td>1.000000</td>\n",
       "      <td>3.000000</td>\n",
       "      <td>4.600000</td>\n",
       "      <td>4.900000</td>\n",
       "      <td>4.700000</td>\n",
       "      <td>11.000000</td>\n",
       "      <td>108.000000</td>\n",
       "    </tr>\n",
       "    <tr>\n",
       "      <th>25%</th>\n",
       "      <td>2014.0</td>\n",
       "      <td>2.000000</td>\n",
       "      <td>4.000000</td>\n",
       "      <td>10.250000</td>\n",
       "      <td>7.500000</td>\n",
       "      <td>9.000000</td>\n",
       "      <td>21.000000</td>\n",
       "      <td>207.000000</td>\n",
       "    </tr>\n",
       "    <tr>\n",
       "      <th>50%</th>\n",
       "      <td>2014.0</td>\n",
       "      <td>3.400000</td>\n",
       "      <td>6.000000</td>\n",
       "      <td>12.600000</td>\n",
       "      <td>8.800000</td>\n",
       "      <td>10.900000</td>\n",
       "      <td>26.000000</td>\n",
       "      <td>251.000000</td>\n",
       "    </tr>\n",
       "    <tr>\n",
       "      <th>75%</th>\n",
       "      <td>2014.0</td>\n",
       "      <td>4.300000</td>\n",
       "      <td>8.000000</td>\n",
       "      <td>15.550000</td>\n",
       "      <td>10.850000</td>\n",
       "      <td>13.350000</td>\n",
       "      <td>31.000000</td>\n",
       "      <td>294.000000</td>\n",
       "    </tr>\n",
       "    <tr>\n",
       "      <th>max</th>\n",
       "      <td>2014.0</td>\n",
       "      <td>8.400000</td>\n",
       "      <td>12.000000</td>\n",
       "      <td>30.200000</td>\n",
       "      <td>20.500000</td>\n",
       "      <td>25.800000</td>\n",
       "      <td>60.000000</td>\n",
       "      <td>488.000000</td>\n",
       "    </tr>\n",
       "  </tbody>\n",
       "</table>\n",
       "</div>"
      ],
      "text/plain": [
       "       MODELYEAR   ENGINESIZE    CYLINDERS  FUELCONSUMPTION_CITY  \\\n",
       "count     1067.0  1067.000000  1067.000000           1067.000000   \n",
       "mean      2014.0     3.346298     5.794752             13.296532   \n",
       "std          0.0     1.415895     1.797447              4.101253   \n",
       "min       2014.0     1.000000     3.000000              4.600000   \n",
       "25%       2014.0     2.000000     4.000000             10.250000   \n",
       "50%       2014.0     3.400000     6.000000             12.600000   \n",
       "75%       2014.0     4.300000     8.000000             15.550000   \n",
       "max       2014.0     8.400000    12.000000             30.200000   \n",
       "\n",
       "       FUELCONSUMPTION_HWY  FUELCONSUMPTION_COMB  FUELCONSUMPTION_COMB_MPG  \\\n",
       "count          1067.000000           1067.000000               1067.000000   \n",
       "mean              9.474602             11.580881                 26.441425   \n",
       "std               2.794510              3.485595                  7.468702   \n",
       "min               4.900000              4.700000                 11.000000   \n",
       "25%               7.500000              9.000000                 21.000000   \n",
       "50%               8.800000             10.900000                 26.000000   \n",
       "75%              10.850000             13.350000                 31.000000   \n",
       "max              20.500000             25.800000                 60.000000   \n",
       "\n",
       "       CO2EMISSIONS  \n",
       "count   1067.000000  \n",
       "mean     256.228679  \n",
       "std       63.372304  \n",
       "min      108.000000  \n",
       "25%      207.000000  \n",
       "50%      251.000000  \n",
       "75%      294.000000  \n",
       "max      488.000000  "
      ]
     },
     "execution_count": 5,
     "metadata": {},
     "output_type": "execute_result"
    }
   ],
   "source": [
    "# summarize the data\n",
    "df.describe()"
   ]
  },
  {
   "cell_type": "code",
   "execution_count": 6,
   "metadata": {},
   "outputs": [
    {
     "name": "stdout",
     "output_type": "stream",
     "text": [
      "<class 'pandas.core.frame.DataFrame'>\n",
      "RangeIndex: 1067 entries, 0 to 1066\n",
      "Data columns (total 13 columns):\n",
      " #   Column                    Non-Null Count  Dtype  \n",
      "---  ------                    --------------  -----  \n",
      " 0   MODELYEAR                 1067 non-null   int64  \n",
      " 1   MAKE                      1067 non-null   object \n",
      " 2   MODEL                     1067 non-null   object \n",
      " 3   VEHICLECLASS              1067 non-null   object \n",
      " 4   ENGINESIZE                1067 non-null   float64\n",
      " 5   CYLINDERS                 1067 non-null   int64  \n",
      " 6   TRANSMISSION              1067 non-null   object \n",
      " 7   FUELTYPE                  1067 non-null   object \n",
      " 8   FUELCONSUMPTION_CITY      1067 non-null   float64\n",
      " 9   FUELCONSUMPTION_HWY       1067 non-null   float64\n",
      " 10  FUELCONSUMPTION_COMB      1067 non-null   float64\n",
      " 11  FUELCONSUMPTION_COMB_MPG  1067 non-null   int64  \n",
      " 12  CO2EMISSIONS              1067 non-null   int64  \n",
      "dtypes: float64(4), int64(4), object(5)\n",
      "memory usage: 108.5+ KB\n"
     ]
    }
   ],
   "source": [
    "df.info()"
   ]
  },
  {
   "cell_type": "code",
   "execution_count": 7,
   "metadata": {},
   "outputs": [
    {
     "data": {
      "text/html": [
       "<div>\n",
       "<style scoped>\n",
       "    .dataframe tbody tr th:only-of-type {\n",
       "        vertical-align: middle;\n",
       "    }\n",
       "\n",
       "    .dataframe tbody tr th {\n",
       "        vertical-align: top;\n",
       "    }\n",
       "\n",
       "    .dataframe thead th {\n",
       "        text-align: right;\n",
       "    }\n",
       "</style>\n",
       "<table border=\"1\" class=\"dataframe\">\n",
       "  <thead>\n",
       "    <tr style=\"text-align: right;\">\n",
       "      <th></th>\n",
       "      <th>ENGINESIZE</th>\n",
       "      <th>CYLINDERS</th>\n",
       "      <th>FUELCONSUMPTION_CITY</th>\n",
       "      <th>FUELCONSUMPTION_HWY</th>\n",
       "      <th>FUELCONSUMPTION_COMB</th>\n",
       "      <th>CO2EMISSIONS</th>\n",
       "    </tr>\n",
       "  </thead>\n",
       "  <tbody>\n",
       "    <tr>\n",
       "      <th>0</th>\n",
       "      <td>2.0</td>\n",
       "      <td>4</td>\n",
       "      <td>9.9</td>\n",
       "      <td>6.7</td>\n",
       "      <td>8.5</td>\n",
       "      <td>196</td>\n",
       "    </tr>\n",
       "    <tr>\n",
       "      <th>1</th>\n",
       "      <td>2.4</td>\n",
       "      <td>4</td>\n",
       "      <td>11.2</td>\n",
       "      <td>7.7</td>\n",
       "      <td>9.6</td>\n",
       "      <td>221</td>\n",
       "    </tr>\n",
       "    <tr>\n",
       "      <th>2</th>\n",
       "      <td>1.5</td>\n",
       "      <td>4</td>\n",
       "      <td>6.0</td>\n",
       "      <td>5.8</td>\n",
       "      <td>5.9</td>\n",
       "      <td>136</td>\n",
       "    </tr>\n",
       "    <tr>\n",
       "      <th>3</th>\n",
       "      <td>3.5</td>\n",
       "      <td>6</td>\n",
       "      <td>12.7</td>\n",
       "      <td>9.1</td>\n",
       "      <td>11.1</td>\n",
       "      <td>255</td>\n",
       "    </tr>\n",
       "    <tr>\n",
       "      <th>4</th>\n",
       "      <td>3.5</td>\n",
       "      <td>6</td>\n",
       "      <td>12.1</td>\n",
       "      <td>8.7</td>\n",
       "      <td>10.6</td>\n",
       "      <td>244</td>\n",
       "    </tr>\n",
       "  </tbody>\n",
       "</table>\n",
       "</div>"
      ],
      "text/plain": [
       "   ENGINESIZE  CYLINDERS  FUELCONSUMPTION_CITY  FUELCONSUMPTION_HWY  \\\n",
       "0         2.0          4                   9.9                  6.7   \n",
       "1         2.4          4                  11.2                  7.7   \n",
       "2         1.5          4                   6.0                  5.8   \n",
       "3         3.5          6                  12.7                  9.1   \n",
       "4         3.5          6                  12.1                  8.7   \n",
       "\n",
       "   FUELCONSUMPTION_COMB  CO2EMISSIONS  \n",
       "0                   8.5           196  \n",
       "1                   9.6           221  \n",
       "2                   5.9           136  \n",
       "3                  11.1           255  \n",
       "4                  10.6           244  "
      ]
     },
     "execution_count": 7,
     "metadata": {},
     "output_type": "execute_result"
    }
   ],
   "source": [
    "cdf = df[['ENGINESIZE','CYLINDERS','FUELCONSUMPTION_CITY','FUELCONSUMPTION_HWY','FUELCONSUMPTION_COMB','CO2EMISSIONS']]\n",
    "cdf.head()"
   ]
  },
  {
   "attachments": {},
   "cell_type": "markdown",
   "metadata": {},
   "source": [
    "## Detection of Multicollinearity\n"
   ]
  },
  {
   "attachments": {},
   "cell_type": "markdown",
   "metadata": {},
   "source": [
    "Multicollinearity is a statistical phenomenon that occurs when two or more predictor variables in a regression model are highly correlated with each other, making it difficult to determine the individual effect of each variable on the response variable. There are two types of multicollinearity:\n",
    "\n",
    "Structural multicollinearity: Structural multicollinearity occurs when two or more predictor variables in a regression model are linearly related, either theoretically or mathematically. For example, if we include both height and weight as predictor variables in a regression model, we can expect a high degree of correlation between them, as taller individuals tend to weigh more.\n",
    "\n",
    "Data-driven multicollinearity: Data-driven multicollinearity occurs when two or more predictor variables in a regression model are highly correlated due to chance or sampling variability in the data. For example, if we collect data on height and weight from a sample of college students, we might find a high degree of correlation between these variables due to the fact that they are both related to age and lifestyle factors.\n",
    "\n",
    "Both types of multicollinearity can cause problems in regression analysis, as they make it difficult to estimate the individual effect of each predictor variable on the response variable. Therefore, it is important to identify and address multicollinearity before interpreting the results of a regression analysis.\n",
    "\n",
    "To visualize the multicollinearity, it is useful to plot the relationship between each pair of columns. \n",
    "This can be done by using seaborn.pairplot function.\n",
    "\n",
    "To detect multicollinearity, one method is to calculate the Variance Inflation Factor (VIF). "
   ]
  },
  {
   "attachments": {},
   "cell_type": "markdown",
   "metadata": {},
   "source": [
    "### Pairwise Plot of numeric columns"
   ]
  },
  {
   "cell_type": "code",
   "execution_count": 8,
   "metadata": {},
   "outputs": [
    {
     "data": {
      "text/plain": [
       "<seaborn.axisgrid.PairGrid at 0x7fb4beffb7f0>"
      ]
     },
     "execution_count": 8,
     "metadata": {},
     "output_type": "execute_result"
    },
    {
     "data": {
      "image/png": "[encoded data removed]",
      "text/plain": [
       "<Figure size 1080x1080 with 27 Axes>"
      ]
     },
     "metadata": {
      "needs_background": "light"
     },
     "output_type": "display_data"
    }
   ],
   "source": [
    "# plot the relationship between each pair of columns\n",
    "\n",
    "sns.pairplot(cdf, corner=True)"
   ]
  },
  {
   "attachments": {},
   "cell_type": "markdown",
   "metadata": {},
   "source": [
    "### Correlation Heatmap"
   ]
  },
  {
   "cell_type": "code",
   "execution_count": 9,
   "metadata": {},
   "outputs": [
    {
     "data": {
      "text/plain": [
       "<AxesSubplot:>"
      ]
     },
     "execution_count": 9,
     "metadata": {},
     "output_type": "execute_result"
    },
    {
     "data": {
      "image/png": "[encoded data removed]",
      "text/plain": [
       "<Figure size 864x720 with 2 Axes>"
      ]
     },
     "metadata": {
      "needs_background": "light"
     },
     "output_type": "display_data"
    }
   ],
   "source": [
    "corr = cdf.corr()\n",
    "\n",
    "# Set up the matplotlib plot configuration\n",
    "f, ax = plt.subplots(figsize=(12, 10))\n",
    "\n",
    "# Generate a mask for upper traingle\n",
    "mask = np.triu(np.ones_like(corr, dtype=bool))\n",
    "\n",
    "# Configure a custom diverging colormap\n",
    "cmap = sns.diverging_palette(230, 20, as_cmap=True)\n",
    "\n",
    "# Draw the heatmap\n",
    "sns.heatmap(corr, annot=True, ax=ax, mask = mask, cmap=cmap)\n"
   ]
  },
  {
   "attachments": {},
   "cell_type": "markdown",
   "metadata": {},
   "source": [
    "FUELCONSUMPTION_CITY, FUELCONSUMPTION_HWY and FUELCONSUMPTION_COMB are highly correlated to each other.\n",
    "\n",
    "CYLINDERS and ENGINESIZE are also correlated with each other but with lower correlation coefficient comparing to ones between FUELCONSUMPTION_CITY, FUELCONSUMPTION_HWY and FUELCONSUMPTION_COMB."
   ]
  },
  {
   "cell_type": "code",
   "execution_count": 10,
   "metadata": {},
   "outputs": [
    {
     "data": {
      "text/plain": [
       "FUELCONSUMPTION_COMB_MPG   -0.906394\n",
       "CYLINDERS                   0.849685\n",
       "FUELCONSUMPTION_HWY         0.861748\n",
       "ENGINESIZE                  0.874154\n",
       "FUELCONSUMPTION_COMB        0.892129\n",
       "FUELCONSUMPTION_CITY        0.898039\n",
       "CO2EMISSIONS                1.000000\n",
       "MODELYEAR                        NaN\n",
       "dtype: float64"
      ]
     },
     "execution_count": 10,
     "metadata": {},
     "output_type": "execute_result"
    }
   ],
   "source": [
    "df.corrwith(df.CO2EMISSIONS).sort_values()"
   ]
  },
  {
   "attachments": {},
   "cell_type": "markdown",
   "metadata": {},
   "source": [
    "When we look at the correlation between CO2 Emissions and independent numeric variables, all the variables show strong positive pearson's correlation coeef except FUELCONSUMPTION_COMB_MPG which has strong negative correlation."
   ]
  },
  {
   "attachments": {},
   "cell_type": "markdown",
   "metadata": {},
   "source": [
    "### Detecting Multicollinearity by Calculating VIFs (Variance Inflation Factors)\n",
    "\n",
    "VIFs are often used in regression analysis to detect multicollinearity, which is a situation where two or more independent variables in a regression model are highly correlated with each other. VIFs are preferred over pairwise correlations for several reasons:\n",
    "\n",
    "VIFs take into account the effect of all other independent variables in the model on a given independent variable, while pairwise correlations only consider the relationship between two variables. This means that VIFs provide a more accurate measure of the degree of multicollinearity between a given independent variable and all other independent variables in the model.\n",
    "\n",
    "Pairwise correlations can be misleading when there are multiple correlated independent variables in the model, as they do not take into account the joint effect of all these variables on the dependent variable. This can lead to overestimation or underestimation of the significance of individual independent variables.\n",
    "\n",
    "VIFs are specifically designed to detect multicollinearity, while pairwise correlations do not provide a direct measure of multicollinearity.\n",
    "\n",
    "VIFs can help identify the specific independent variables that are causing multicollinearity, allowing the researcher to take appropriate measures such as removing or transforming one of the variables.\n",
    "\n",
    "In summary, VIFs are preferred over pairwise correlations for detecting multicollinearity because they provide a more accurate and comprehensive measure of the degree of multicollinearity between a given independent variable and all other\n",
    "\n",
    "#### Interpretation of VIF\n",
    "\n",
    "A VIF value of 1 indicates no correlation between the predictor variables, while a value greater than 1 indicates increasing levels of correlation between the predictor variables.\n",
    "\n",
    "Typically, a VIF value greater than 5 or 10 indicates significant multicollinearity and suggests that the variable may need to be removed from the model. However, the threshold for an acceptable VIF value may vary depending on the context and specific research questions.\n",
    "\n",
    "In summary, VIF provides information on the degree of multicollinearity in a regression model and helps to identify predictor variables that may need to be removed from the model to improve its accuracy and reliability."
   ]
  },
  {
   "cell_type": "code",
   "execution_count": 11,
   "metadata": {},
   "outputs": [],
   "source": [
    "import statsmodels.api as sm\n",
    "from statsmodels.stats.outliers_influence import variance_inflation_factor"
   ]
  },
  {
   "cell_type": "code",
   "execution_count": 12,
   "metadata": {},
   "outputs": [
    {
     "name": "stdout",
     "output_type": "stream",
     "text": [
      "   VIF Factor              features\n",
      "0        21.5                 const\n",
      "1         9.5            ENGINESIZE\n",
      "2         8.4             CYLINDERS\n",
      "3      6203.3  FUELCONSUMPTION_CITY\n",
      "4      1956.8   FUELCONSUMPTION_HWY\n",
      "5     14813.3  FUELCONSUMPTION_COMB\n"
     ]
    }
   ],
   "source": [
    "x_temp = sm.add_constant(cdf.drop(\"CO2EMISSIONS\", axis=1))\n",
    "\n",
    "vif = pd.DataFrame()\n",
    "vif[\"VIF Factor\"] = [variance_inflation_factor(x_temp.values, i) for i in range(x_temp.values.shape[1])]\n",
    "vif[\"features\"] = x_temp.columns\n",
    "print(vif.round(1))\n"
   ]
  },
  {
   "attachments": {},
   "cell_type": "markdown",
   "metadata": {},
   "source": [
    "As we expected, VIFs of FUELCONSUMPTION_COMB, FUELCONSUMPTION_CITY and FUELCONSUMPTION_HWY are extremely high due to multicollinearity since FUELCONSUMPTION_COMB is the combination of FUELCONSUMPTION_CITY and FUELCONSUMPTION_HWY."
   ]
  },
  {
   "cell_type": "code",
   "execution_count": 13,
   "metadata": {},
   "outputs": [
    {
     "name": "stdout",
     "output_type": "stream",
     "text": [
      "   VIF Factor              features\n",
      "0        21.4                 const\n",
      "1         9.5            ENGINESIZE\n",
      "2         8.4             CYLINDERS\n",
      "3        21.1  FUELCONSUMPTION_CITY\n",
      "4        16.3   FUELCONSUMPTION_HWY\n"
     ]
    }
   ],
   "source": [
    "x_temp = sm.add_constant(cdf.drop([\"CO2EMISSIONS\",\"FUELCONSUMPTION_COMB\"], axis=1))\n",
    "\n",
    "vif = pd.DataFrame()\n",
    "vif[\"VIF Factor\"] = [variance_inflation_factor(x_temp.values, i) for i in range(x_temp.values.shape[1])]\n",
    "vif[\"features\"] = x_temp.columns\n",
    "print(vif.round(1))\n"
   ]
  },
  {
   "attachments": {},
   "cell_type": "markdown",
   "metadata": {},
   "source": [
    "When we exclude FUELCONSUMPTION_COMB from the regressor set, we still see that FUELCONSUMPTION_CITY and FUELCONSUMPTION_HWY have extremely high VIF values. "
   ]
  },
  {
   "cell_type": "code",
   "execution_count": 14,
   "metadata": {},
   "outputs": [
    {
     "name": "stdout",
     "output_type": "stream",
     "text": [
      "   VIF Factor              features\n",
      "0        19.8                 const\n",
      "1         9.5            ENGINESIZE\n",
      "2         7.9             CYLINDERS\n",
      "3         3.1  FUELCONSUMPTION_COMB\n"
     ]
    }
   ],
   "source": [
    "x_temp = sm.add_constant(cdf.drop([\"CO2EMISSIONS\",\"FUELCONSUMPTION_CITY\", \"FUELCONSUMPTION_HWY\"], axis=1))\n",
    "\n",
    "vif = pd.DataFrame()\n",
    "vif[\"VIF Factor\"] = [variance_inflation_factor(x_temp.values, i) for i in range(x_temp.values.shape[1])]\n",
    "vif[\"features\"] = x_temp.columns\n",
    "print(vif.round(1))\n"
   ]
  },
  {
   "attachments": {},
   "cell_type": "markdown",
   "metadata": {},
   "source": [
    "When we exclude FUELCONSUMPTION_CITY and FUELCONSUMPTION_HWY instead of FUELCONSUMPTION_COMB, we see that VIFs decrease for CYLINDERS and and FUELCONSUMPTION_COMB it is even lower than 5. "
   ]
  },
  {
   "attachments": {},
   "cell_type": "markdown",
   "metadata": {},
   "source": [
    "***In order to deal with the multicollinearity in our case, we will remove FUELCONSUMPTION_COMB and FUELCONSUMPTION_COMB, using FUELCONSUMPTION_COMB, CYLINDERS and ENGINESIZE as independent variables for multiple linear regression model***"
   ]
  },
  {
   "cell_type": "markdown",
   "metadata": {},
   "source": [
    "## ***2. Creating train and test dataset***"
   ]
  },
  {
   "attachments": {},
   "cell_type": "markdown",
   "metadata": {},
   "source": [
    "Let's split our dataset into train and test sets. 80% of the entire dataset will be used for training and 20% for testing. "
   ]
  },
  {
   "cell_type": "code",
   "execution_count": 62,
   "metadata": {},
   "outputs": [],
   "source": [
    "from sklearn.model_selection import train_test_split"
   ]
  },
  {
   "cell_type": "code",
   "execution_count": 63,
   "metadata": {},
   "outputs": [],
   "source": [
    "#Create training and test datasets\n",
    "X = cdf.drop([\"CO2EMISSIONS\",\"FUELCONSUMPTION_CITY\", \"FUELCONSUMPTION_HWY\"], axis=1)\n",
    "Y = cdf[\"CO2EMISSIONS\"]\n",
    "\n",
    "X_train, X_test, Y_train, Y_test = train_test_split(X, Y, test_size = 0.20, random_state = 5)"
   ]
  },
  {
   "attachments": {},
   "cell_type": "markdown",
   "metadata": {},
   "source": [
    "## ***3. Modeling using the sm.OLS() function from the statsmodels library***\n",
    "\n",
    "## Comparison of model statistics between combination of independent variables as regressors\n"
   ]
  },
  {
   "cell_type": "code",
   "execution_count": 64,
   "metadata": {},
   "outputs": [],
   "source": [
    "# For calculating errors\n",
    "from sklearn import metrics\n",
    "from math import sqrt"
   ]
  },
  {
   "cell_type": "code",
   "execution_count": 65,
   "metadata": {},
   "outputs": [],
   "source": [
    "def statsmodels_OLS(train_x, test_x, train_y, test_y):\n",
    "    \n",
    "    # Add a column for the constant\n",
    "    train_x = sm.add_constant(train_x)\n",
    "\n",
    "    # Fit the linear regression model using the training data\n",
    "    model = sm.OLS(train_y, train_x).fit()\n",
    "\n",
    "    # Add a column for the constant\n",
    "    test_x= sm.add_constant(test_x)\n",
    "\n",
    "    y_pred = model.predict(test_x)\n",
    "\n",
    "    \n",
    "    print(\"MSE: {}\".format(metrics.mean_squared_error(test_y, y_pred)))\n",
    "    print(\"RMSE: {}\".format(sqrt(metrics.mean_squared_error(test_y, y_pred))))\n",
    "    print(\"MAE: {}\".format(metrics.mean_absolute_error(test_y, y_pred)))\n",
    "    print(\"R-score: {}\".format(model.rsquared))\n",
    "    print(\"Adjusted R-score: {}\".format(model.rsquared_adj))\n",
    "    \n",
    "    # np version\n",
    "    # print(\"MSE: {}\".format(np.square(np.subtract(test_y,y_pred)).mean()))\n",
    "    # print(\"RMSE: {}\".format(np.sqrt(np.square(np.subtract(test_y,y_pred)).mean())))\n",
    "    \n",
    "    return model\n"
   ]
  },
  {
   "attachments": {},
   "cell_type": "markdown",
   "metadata": {},
   "source": [
    "### ***model1 predictors : ENGINESIZE, CYLINDERS, FUELCONSUMPTION_COMB***"
   ]
  },
  {
   "cell_type": "code",
   "execution_count": 66,
   "metadata": {},
   "outputs": [
    {
     "name": "stdout",
     "output_type": "stream",
     "text": [
      "MSE: 522.1705884607351\n",
      "RMSE: 22.8510522396833\n",
      "MAE: 16.557259514352342\n",
      "R-score: 0.8573344691061398\n",
      "Adjusted R-score: 0.8568303506224159\n"
     ]
    }
   ],
   "source": [
    "model1 = statsmodels_OLS(X_train, X_test, Y_train, Y_test)"
   ]
  },
  {
   "cell_type": "code",
   "execution_count": 67,
   "metadata": {},
   "outputs": [
    {
     "data": {
      "text/html": [
       "<table class=\"simpletable\">\n",
       "<caption>OLS Regression Results</caption>\n",
       "<tr>\n",
       "  <th>Dep. Variable:</th>      <td>CO2EMISSIONS</td>   <th>  R-squared:         </th> <td>   0.857</td>\n",
       "</tr>\n",
       "<tr>\n",
       "  <th>Model:</th>                   <td>OLS</td>       <th>  Adj. R-squared:    </th> <td>   0.857</td>\n",
       "</tr>\n",
       "<tr>\n",
       "  <th>Method:</th>             <td>Least Squares</td>  <th>  F-statistic:       </th> <td>   1701.</td>\n",
       "</tr>\n",
       "<tr>\n",
       "  <th>Date:</th>             <td>Mon, 03 Apr 2023</td> <th>  Prob (F-statistic):</th>  <td>  0.00</td> \n",
       "</tr>\n",
       "<tr>\n",
       "  <th>Time:</th>                 <td>17:42:58</td>     <th>  Log-Likelihood:    </th> <td> -3903.0</td>\n",
       "</tr>\n",
       "<tr>\n",
       "  <th>No. Observations:</th>      <td>   853</td>      <th>  AIC:               </th> <td>   7814.</td>\n",
       "</tr>\n",
       "<tr>\n",
       "  <th>Df Residuals:</th>          <td>   849</td>      <th>  BIC:               </th> <td>   7833.</td>\n",
       "</tr>\n",
       "<tr>\n",
       "  <th>Df Model:</th>              <td>     3</td>      <th>                     </th>     <td> </td>   \n",
       "</tr>\n",
       "<tr>\n",
       "  <th>Covariance Type:</th>      <td>nonrobust</td>    <th>                     </th>     <td> </td>   \n",
       "</tr>\n",
       "</table>\n",
       "<table class=\"simpletable\">\n",
       "<tr>\n",
       "            <td></td>              <th>coef</th>     <th>std err</th>      <th>t</th>      <th>P>|t|</th>  <th>[0.025</th>    <th>0.975]</th>  \n",
       "</tr>\n",
       "<tr>\n",
       "  <th>const</th>                <td>   66.4960</td> <td>    3.700</td> <td>   17.971</td> <td> 0.000</td> <td>   59.234</td> <td>   73.758</td>\n",
       "</tr>\n",
       "<tr>\n",
       "  <th>ENGINESIZE</th>           <td>   10.8681</td> <td>    1.752</td> <td>    6.202</td> <td> 0.000</td> <td>    7.429</td> <td>   14.307</td>\n",
       "</tr>\n",
       "<tr>\n",
       "  <th>CYLINDERS</th>            <td>    7.3366</td> <td>    1.293</td> <td>    5.672</td> <td> 0.000</td> <td>    4.798</td> <td>    9.875</td>\n",
       "</tr>\n",
       "<tr>\n",
       "  <th>FUELCONSUMPTION_COMB</th> <td>    9.5568</td> <td>    0.403</td> <td>   23.743</td> <td> 0.000</td> <td>    8.767</td> <td>   10.347</td>\n",
       "</tr>\n",
       "</table>\n",
       "<table class=\"simpletable\">\n",
       "<tr>\n",
       "  <th>Omnibus:</th>       <td>35.690</td> <th>  Durbin-Watson:     </th> <td>   1.913</td>\n",
       "</tr>\n",
       "<tr>\n",
       "  <th>Prob(Omnibus):</th> <td> 0.000</td> <th>  Jarque-Bera (JB):  </th> <td>  51.260</td>\n",
       "</tr>\n",
       "<tr>\n",
       "  <th>Skew:</th>          <td>-0.374</td> <th>  Prob(JB):          </th> <td>7.40e-12</td>\n",
       "</tr>\n",
       "<tr>\n",
       "  <th>Kurtosis:</th>      <td> 3.939</td> <th>  Cond. No.          </th> <td>    68.6</td>\n",
       "</tr>\n",
       "</table><br/><br/>Notes:<br/>[1] Standard Errors assume that the covariance matrix of the errors is correctly specified."
      ],
      "text/plain": [
       "<class 'statsmodels.iolib.summary.Summary'>\n",
       "\"\"\"\n",
       "                            OLS Regression Results                            \n",
       "==============================================================================\n",
       "Dep. Variable:           CO2EMISSIONS   R-squared:                       0.857\n",
       "Model:                            OLS   Adj. R-squared:                  0.857\n",
       "Method:                 Least Squares   F-statistic:                     1701.\n",
       "Date:                Mon, 03 Apr 2023   Prob (F-statistic):               0.00\n",
       "Time:                        17:42:58   Log-Likelihood:                -3903.0\n",
       "No. Observations:                 853   AIC:                             7814.\n",
       "Df Residuals:                     849   BIC:                             7833.\n",
       "Df Model:                           3                                         \n",
       "Covariance Type:            nonrobust                                         \n",
       "========================================================================================\n",
       "                           coef    std err          t      P>|t|      [0.025      0.975]\n",
       "----------------------------------------------------------------------------------------\n",
       "const                   66.4960      3.700     17.971      0.000      59.234      73.758\n",
       "ENGINESIZE              10.8681      1.752      6.202      0.000       7.429      14.307\n",
       "CYLINDERS                7.3366      1.293      5.672      0.000       4.798       9.875\n",
       "FUELCONSUMPTION_COMB     9.5568      0.403     23.743      0.000       8.767      10.347\n",
       "==============================================================================\n",
       "Omnibus:                       35.690   Durbin-Watson:                   1.913\n",
       "Prob(Omnibus):                  0.000   Jarque-Bera (JB):               51.260\n",
       "Skew:                          -0.374   Prob(JB):                     7.40e-12\n",
       "Kurtosis:                       3.939   Cond. No.                         68.6\n",
       "==============================================================================\n",
       "\n",
       "Notes:\n",
       "[1] Standard Errors assume that the covariance matrix of the errors is correctly specified.\n",
       "\"\"\""
      ]
     },
     "execution_count": 67,
     "metadata": {},
     "output_type": "execute_result"
    }
   ],
   "source": [
    "model1.summary()"
   ]
  },
  {
   "attachments": {},
   "cell_type": "markdown",
   "metadata": {},
   "source": [
    "### ***model2 predictors : CYLINDERS, FUELCONSUMPTION_COMB***"
   ]
  },
  {
   "cell_type": "code",
   "execution_count": 68,
   "metadata": {},
   "outputs": [
    {
     "name": "stdout",
     "output_type": "stream",
     "text": [
      "MSE: 545.6789971391912\n",
      "RMSE: 23.359773054102885\n",
      "MAE: 17.21689074868941\n",
      "R-score: 0.8508702187392205\n",
      "Adjusted R-score: 0.850519325136254\n"
     ]
    }
   ],
   "source": [
    "model2 = statsmodels_OLS(X_train[[\"CYLINDERS\",\"FUELCONSUMPTION_COMB\"]], X_test[[\"CYLINDERS\",\"FUELCONSUMPTION_COMB\"]], Y_train, Y_test)"
   ]
  },
  {
   "cell_type": "code",
   "execution_count": 69,
   "metadata": {},
   "outputs": [
    {
     "data": {
      "text/html": [
       "<table class=\"simpletable\">\n",
       "<caption>OLS Regression Results</caption>\n",
       "<tr>\n",
       "  <th>Dep. Variable:</th>      <td>CO2EMISSIONS</td>   <th>  R-squared:         </th> <td>   0.851</td>\n",
       "</tr>\n",
       "<tr>\n",
       "  <th>Model:</th>                   <td>OLS</td>       <th>  Adj. R-squared:    </th> <td>   0.851</td>\n",
       "</tr>\n",
       "<tr>\n",
       "  <th>Method:</th>             <td>Least Squares</td>  <th>  F-statistic:       </th> <td>   2425.</td>\n",
       "</tr>\n",
       "<tr>\n",
       "  <th>Date:</th>             <td>Mon, 03 Apr 2023</td> <th>  Prob (F-statistic):</th>  <td>  0.00</td> \n",
       "</tr>\n",
       "<tr>\n",
       "  <th>Time:</th>                 <td>17:43:06</td>     <th>  Log-Likelihood:    </th> <td> -3921.9</td>\n",
       "</tr>\n",
       "<tr>\n",
       "  <th>No. Observations:</th>      <td>   853</td>      <th>  AIC:               </th> <td>   7850.</td>\n",
       "</tr>\n",
       "<tr>\n",
       "  <th>Df Residuals:</th>          <td>   850</td>      <th>  BIC:               </th> <td>   7864.</td>\n",
       "</tr>\n",
       "<tr>\n",
       "  <th>Df Model:</th>              <td>     2</td>      <th>                     </th>     <td> </td>   \n",
       "</tr>\n",
       "<tr>\n",
       "  <th>Covariance Type:</th>      <td>nonrobust</td>    <th>                     </th>     <td> </td>   \n",
       "</tr>\n",
       "</table>\n",
       "<table class=\"simpletable\">\n",
       "<tr>\n",
       "            <td></td>              <th>coef</th>     <th>std err</th>      <th>t</th>      <th>P>|t|</th>  <th>[0.025</th>    <th>0.975]</th>  \n",
       "</tr>\n",
       "<tr>\n",
       "  <th>const</th>                <td>   52.6929</td> <td>    3.020</td> <td>   17.445</td> <td> 0.000</td> <td>   46.764</td> <td>   58.621</td>\n",
       "</tr>\n",
       "<tr>\n",
       "  <th>CYLINDERS</th>            <td>   13.9750</td> <td>    0.742</td> <td>   18.831</td> <td> 0.000</td> <td>   12.518</td> <td>   15.432</td>\n",
       "</tr>\n",
       "<tr>\n",
       "  <th>FUELCONSUMPTION_COMB</th> <td>   10.5734</td> <td>    0.376</td> <td>   28.147</td> <td> 0.000</td> <td>    9.836</td> <td>   11.311</td>\n",
       "</tr>\n",
       "</table>\n",
       "<table class=\"simpletable\">\n",
       "<tr>\n",
       "  <th>Omnibus:</th>       <td>34.919</td> <th>  Durbin-Watson:     </th> <td>   1.908</td>\n",
       "</tr>\n",
       "<tr>\n",
       "  <th>Prob(Omnibus):</th> <td> 0.000</td> <th>  Jarque-Bera (JB):  </th> <td>  47.683</td>\n",
       "</tr>\n",
       "<tr>\n",
       "  <th>Skew:</th>          <td>-0.385</td> <th>  Prob(JB):          </th> <td>4.42e-11</td>\n",
       "</tr>\n",
       "<tr>\n",
       "  <th>Kurtosis:</th>      <td> 3.865</td> <th>  Cond. No.          </th> <td>    49.5</td>\n",
       "</tr>\n",
       "</table><br/><br/>Notes:<br/>[1] Standard Errors assume that the covariance matrix of the errors is correctly specified."
      ],
      "text/plain": [
       "<class 'statsmodels.iolib.summary.Summary'>\n",
       "\"\"\"\n",
       "                            OLS Regression Results                            \n",
       "==============================================================================\n",
       "Dep. Variable:           CO2EMISSIONS   R-squared:                       0.851\n",
       "Model:                            OLS   Adj. R-squared:                  0.851\n",
       "Method:                 Least Squares   F-statistic:                     2425.\n",
       "Date:                Mon, 03 Apr 2023   Prob (F-statistic):               0.00\n",
       "Time:                        17:43:06   Log-Likelihood:                -3921.9\n",
       "No. Observations:                 853   AIC:                             7850.\n",
       "Df Residuals:                     850   BIC:                             7864.\n",
       "Df Model:                           2                                         \n",
       "Covariance Type:            nonrobust                                         \n",
       "========================================================================================\n",
       "                           coef    std err          t      P>|t|      [0.025      0.975]\n",
       "----------------------------------------------------------------------------------------\n",
       "const                   52.6929      3.020     17.445      0.000      46.764      58.621\n",
       "CYLINDERS               13.9750      0.742     18.831      0.000      12.518      15.432\n",
       "FUELCONSUMPTION_COMB    10.5734      0.376     28.147      0.000       9.836      11.311\n",
       "==============================================================================\n",
       "Omnibus:                       34.919   Durbin-Watson:                   1.908\n",
       "Prob(Omnibus):                  0.000   Jarque-Bera (JB):               47.683\n",
       "Skew:                          -0.385   Prob(JB):                     4.42e-11\n",
       "Kurtosis:                       3.865   Cond. No.                         49.5\n",
       "==============================================================================\n",
       "\n",
       "Notes:\n",
       "[1] Standard Errors assume that the covariance matrix of the errors is correctly specified.\n",
       "\"\"\""
      ]
     },
     "execution_count": 69,
     "metadata": {},
     "output_type": "execute_result"
    }
   ],
   "source": [
    "model2.summary()"
   ]
  },
  {
   "attachments": {},
   "cell_type": "markdown",
   "metadata": {},
   "source": [
    "### ***model3 predictors : ENGINESIZE, FUELCONSUMPTION_COMB***"
   ]
  },
  {
   "cell_type": "code",
   "execution_count": 70,
   "metadata": {},
   "outputs": [
    {
     "name": "stdout",
     "output_type": "stream",
     "text": [
      "MSE: 556.321505719373\n",
      "RMSE: 23.58646869964584\n",
      "MAE: 16.916020808875107\n",
      "R-score: 0.8519282189496958\n",
      "Adjusted R-score: 0.8515798147589893\n"
     ]
    }
   ],
   "source": [
    "model3 = statsmodels_OLS(X_train[[\"ENGINESIZE\",\"FUELCONSUMPTION_COMB\"]], X_test[[\"ENGINESIZE\",\"FUELCONSUMPTION_COMB\"]], Y_train, Y_test)"
   ]
  },
  {
   "cell_type": "code",
   "execution_count": 71,
   "metadata": {},
   "outputs": [
    {
     "data": {
      "text/html": [
       "<table class=\"simpletable\">\n",
       "<caption>OLS Regression Results</caption>\n",
       "<tr>\n",
       "  <th>Dep. Variable:</th>      <td>CO2EMISSIONS</td>   <th>  R-squared:         </th> <td>   0.852</td>\n",
       "</tr>\n",
       "<tr>\n",
       "  <th>Model:</th>                   <td>OLS</td>       <th>  Adj. R-squared:    </th> <td>   0.852</td>\n",
       "</tr>\n",
       "<tr>\n",
       "  <th>Method:</th>             <td>Least Squares</td>  <th>  F-statistic:       </th> <td>   2445.</td>\n",
       "</tr>\n",
       "<tr>\n",
       "  <th>Date:</th>             <td>Mon, 03 Apr 2023</td> <th>  Prob (F-statistic):</th>  <td>  0.00</td> \n",
       "</tr>\n",
       "<tr>\n",
       "  <th>Time:</th>                 <td>17:43:12</td>     <th>  Log-Likelihood:    </th> <td> -3918.8</td>\n",
       "</tr>\n",
       "<tr>\n",
       "  <th>No. Observations:</th>      <td>   853</td>      <th>  AIC:               </th> <td>   7844.</td>\n",
       "</tr>\n",
       "<tr>\n",
       "  <th>Df Residuals:</th>          <td>   850</td>      <th>  BIC:               </th> <td>   7858.</td>\n",
       "</tr>\n",
       "<tr>\n",
       "  <th>Df Model:</th>              <td>     2</td>      <th>                     </th>     <td> </td>   \n",
       "</tr>\n",
       "<tr>\n",
       "  <th>Covariance Type:</th>      <td>nonrobust</td>    <th>                     </th>     <td> </td>   \n",
       "</tr>\n",
       "</table>\n",
       "<table class=\"simpletable\">\n",
       "<tr>\n",
       "            <td></td>              <th>coef</th>     <th>std err</th>      <th>t</th>      <th>P>|t|</th>  <th>[0.025</th>    <th>0.975]</th>  \n",
       "</tr>\n",
       "<tr>\n",
       "  <th>const</th>                <td>   79.7997</td> <td>    2.914</td> <td>   27.387</td> <td> 0.000</td> <td>   74.081</td> <td>   85.519</td>\n",
       "</tr>\n",
       "<tr>\n",
       "  <th>ENGINESIZE</th>           <td>   19.0923</td> <td>    1.002</td> <td>   19.058</td> <td> 0.000</td> <td>   17.126</td> <td>   21.059</td>\n",
       "</tr>\n",
       "<tr>\n",
       "  <th>FUELCONSUMPTION_COMB</th> <td>    9.6907</td> <td>    0.409</td> <td>   23.686</td> <td> 0.000</td> <td>    8.888</td> <td>   10.494</td>\n",
       "</tr>\n",
       "</table>\n",
       "<table class=\"simpletable\">\n",
       "<tr>\n",
       "  <th>Omnibus:</th>       <td>41.308</td> <th>  Durbin-Watson:     </th> <td>   1.919</td>\n",
       "</tr>\n",
       "<tr>\n",
       "  <th>Prob(Omnibus):</th> <td> 0.000</td> <th>  Jarque-Bera (JB):  </th> <td>  59.733</td>\n",
       "</tr>\n",
       "<tr>\n",
       "  <th>Skew:</th>          <td>-0.418</td> <th>  Prob(JB):          </th> <td>1.07e-13</td>\n",
       "</tr>\n",
       "<tr>\n",
       "  <th>Kurtosis:</th>      <td> 3.991</td> <th>  Cond. No.          </th> <td>    45.0</td>\n",
       "</tr>\n",
       "</table><br/><br/>Notes:<br/>[1] Standard Errors assume that the covariance matrix of the errors is correctly specified."
      ],
      "text/plain": [
       "<class 'statsmodels.iolib.summary.Summary'>\n",
       "\"\"\"\n",
       "                            OLS Regression Results                            \n",
       "==============================================================================\n",
       "Dep. Variable:           CO2EMISSIONS   R-squared:                       0.852\n",
       "Model:                            OLS   Adj. R-squared:                  0.852\n",
       "Method:                 Least Squares   F-statistic:                     2445.\n",
       "Date:                Mon, 03 Apr 2023   Prob (F-statistic):               0.00\n",
       "Time:                        17:43:12   Log-Likelihood:                -3918.8\n",
       "No. Observations:                 853   AIC:                             7844.\n",
       "Df Residuals:                     850   BIC:                             7858.\n",
       "Df Model:                           2                                         \n",
       "Covariance Type:            nonrobust                                         \n",
       "========================================================================================\n",
       "                           coef    std err          t      P>|t|      [0.025      0.975]\n",
       "----------------------------------------------------------------------------------------\n",
       "const                   79.7997      2.914     27.387      0.000      74.081      85.519\n",
       "ENGINESIZE              19.0923      1.002     19.058      0.000      17.126      21.059\n",
       "FUELCONSUMPTION_COMB     9.6907      0.409     23.686      0.000       8.888      10.494\n",
       "==============================================================================\n",
       "Omnibus:                       41.308   Durbin-Watson:                   1.919\n",
       "Prob(Omnibus):                  0.000   Jarque-Bera (JB):               59.733\n",
       "Skew:                          -0.418   Prob(JB):                     1.07e-13\n",
       "Kurtosis:                       3.991   Cond. No.                         45.0\n",
       "==============================================================================\n",
       "\n",
       "Notes:\n",
       "[1] Standard Errors assume that the covariance matrix of the errors is correctly specified.\n",
       "\"\"\""
      ]
     },
     "execution_count": 71,
     "metadata": {},
     "output_type": "execute_result"
    }
   ],
   "source": [
    "model3.summary()"
   ]
  },
  {
   "attachments": {},
   "cell_type": "markdown",
   "metadata": {},
   "source": [
    "## Comparison of model statistics between combination of independent variables as predictors\n",
    "\n",
    "#### When we look at the summary of the models, we see that p-values of T-test for the variables used in all models are 0.00 meaning that slope parameters are not zero, each variable contributes to their model.\n",
    "\n",
    "#### The P-value for the analysis of variance F-test suggests that all the models are more useful than the case of variables were not taken into account.\n",
    "\n",
    "#### model1 in which CYLINDERS, ENGINESIZE, and FUELCONSUMPTION_COMB are used as predictors, gives higher Adjusted R2-score and lower MSE error comparing to models having ENGINESIZE & FUELCONSUMPTION_COMB or CYLINDERS & FUELCONSUMPTION_COMB as predictors.\n",
    "\n",
    "#### We also see that model1 has lower AIC and BIC scores comparing to other models. AIC and BIC are commonly used for model evaluation and selection. These are an unbiased estimate of the model prediction error MSE. The lower these metrics, the better the model.\n"
   ]
  },
  {
   "attachments": {},
   "cell_type": "markdown",
   "metadata": {},
   "source": [
    "# 4. Modeling using linear model of sklearn library\n",
    "\n",
    "**Coefficient** and **Intercept** in the simple linear regression are the parameters of the fit line.\n",
    "\n",
    "Sklearn can estimate them directly from our data.\n",
    "\n",
    "All of the data must be available to traverse and calculate the parameters."
   ]
  },
  {
   "cell_type": "code",
   "execution_count": 25,
   "metadata": {},
   "outputs": [],
   "source": [
    "from sklearn.metrics import r2_score\n",
    "from sklearn.linear_model import LinearRegression\n"
   ]
  },
  {
   "cell_type": "code",
   "execution_count": 59,
   "metadata": {},
   "outputs": [],
   "source": [
    "def multiple_linear_model_sklearn(train_x, test_x, train_y, test_y):\n",
    "    \n",
    "    regr = LinearRegression(normalize=True)\n",
    "\n",
    "    regr.fit(train_x, train_y)\n",
    "\n",
    "    # Evaluate\n",
    "    y_pred = regr.predict(test_x)\n",
    "    \n",
    "    r2 = r2_score(y_true=test_y, y_pred=y_pred)\n",
    "    adj_r2 = 1 - ((1 - r2) * (len(train_x) - 1) / ((len(train_x) - train_x.shape[1] - 1)))\n",
    "\n",
    "\n",
    "    print(\"Residual sum of squares (MSE): %.2f\" % np.mean((y_pred - test_y) ** 2))\n",
    "    print(\"Mean absolute error: %.2f (MAE)\" % np.mean(np.absolute(y_pred - test_y)))\n",
    "    print(\"Adjusted R2-score: %.2f\" % adj_r2)\n",
    "\n"
   ]
  },
  {
   "attachments": {},
   "cell_type": "markdown",
   "metadata": {},
   "source": [
    "### ***Predictors : ENGINESIZE, CYLINDERS, FUELCONSUMPTION_COMB***"
   ]
  },
  {
   "cell_type": "code",
   "execution_count": 60,
   "metadata": {},
   "outputs": [
    {
     "name": "stdout",
     "output_type": "stream",
     "text": [
      "Residual sum of squares (MSE): 522.17\n",
      "Mean absolute error: 16.56 (MAE)\n",
      "Adjusted R2-score: 0.88\n"
     ]
    }
   ],
   "source": [
    "multiple_linear_model_sklearn(X_train, X_test, Y_train, Y_test)"
   ]
  },
  {
   "attachments": {},
   "cell_type": "markdown",
   "metadata": {},
   "source": [
    "### ***Predictors : CYLINDERS, FUELCONSUMPTION_COMB***"
   ]
  },
  {
   "cell_type": "code",
   "execution_count": 61,
   "metadata": {},
   "outputs": [
    {
     "name": "stdout",
     "output_type": "stream",
     "text": [
      "Residual sum of squares (MSE): 545.68\n",
      "Mean absolute error: 17.22 (MAE)\n",
      "Adjusted R2-score: 0.88\n"
     ]
    }
   ],
   "source": [
    "multiple_linear_model_sklearn(X_train[[\"CYLINDERS\",\"FUELCONSUMPTION_COMB\"]], X_test[[\"CYLINDERS\",\"FUELCONSUMPTION_COMB\"]], Y_train, Y_test)"
   ]
  },
  {
   "attachments": {},
   "cell_type": "markdown",
   "metadata": {},
   "source": [
    "### ***Predictors : ENGINESIZE, FUELCONSUMPTION_COMB***"
   ]
  },
  {
   "cell_type": "code",
   "execution_count": 40,
   "metadata": {},
   "outputs": [
    {
     "name": "stdout",
     "output_type": "stream",
     "text": [
      "Residual sum of squares (MSE): 556.32\n",
      "Mean absolute error: 16.92 (MAE)\n",
      "Adjusted R2-score: 0.88\n"
     ]
    }
   ],
   "source": [
    "multiple_linear_model_sklearn(X_train[[\"ENGINESIZE\",\"FUELCONSUMPTION_COMB\"]], X_test[[\"ENGINESIZE\",\"FUELCONSUMPTION_COMB\"]], Y_train, Y_test)"
   ]
  },
  {
   "attachments": {},
   "cell_type": "markdown",
   "metadata": {},
   "source": [
    "#### Again We see that model using CYLINDERS, ENGINESIZE, and FUELCONSUMPTION_COMB as regressors gives higher R2-score and lower MSE and MAE errors comparing to models using ENGINESIZE & FUELCONSUMPTION_COMB or CYLINDERS & FUELCONSUMPTION_COMB as regressors."
   ]
  }
 ],
 "metadata": {
  "kernelspec": {
   "display_name": "pythonProject",
   "language": "python",
   "name": "python3"
  },
  "language_info": {
   "codemirror_mode": {
    "name": "ipython",
    "version": 3
   },
   "file_extension": ".py",
   "mimetype": "text/x-python",
   "name": "python",
   "nbconvert_exporter": "python",
   "pygments_lexer": "ipython3",
   "version": "3.8.8"
  },
  "orig_nbformat": 4
 },
 "nbformat": 4,
 "nbformat_minor": 2
}
